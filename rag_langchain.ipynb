{
 "cells": [
  {
   "cell_type": "code",
   "execution_count": 17,
   "id": "3e1e4282",
   "metadata": {},
   "outputs": [
    {
     "data": {
      "text/plain": [
       "True"
      ]
     },
     "execution_count": 17,
     "metadata": {},
     "output_type": "execute_result"
    }
   ],
   "source": [
    "import os\n",
    "import dotenv\n",
    "from pathlib import Path\n",
    "\n",
    "\n",
    "from langchain_core.messages import AIMessage, HumanMessage\n",
    "from langchain_community.document_loaders.text import TextLoader\n",
    "from langchain_community.document_loaders import (\n",
    "    WebBaseLoader,\n",
    "    PyPDFLoader,\n",
    "    Docx2txtLoader,\n",
    ")\n",
    "from langchain_community.vectorstores import Chroma\n",
    "from langchain.text_splitter import RecursiveCharacterTextSplitter\n",
    "from langchain_openai import OpenAIEmbeddings, ChatOpenAI\n",
    "from langchain_core.prompts import ChatPromptTemplate, MessagesPlaceholder\n",
    "from langchain.chains import create_history_aware_retriever, create_retrieval_chain\n",
    "from langchain.chains.combine_documents import create_stuff_documents_chain\n",
    "\n",
    "dotenv.load_dotenv()"
   ]
  },
  {
   "cell_type": "code",
   "execution_count": 19,
   "id": "54faefbe",
   "metadata": {},
   "outputs": [],
   "source": [
    "# Loading the Documents\n",
    "\n",
    "doc_paths = [\n",
    "    \"docs/rag.pdf\"   \n",
    "]\n",
    "\n",
    "docs = []\n",
    "\n",
    "for doc_file in doc_paths:\n",
    "    file_path = Path(doc_file)\n",
    "\n",
    "    try:\n",
    "        if doc_file.endswith(\".pdf\"):\n",
    "            loader = PyPDFLoader(file_path)\n",
    "        elif doc_file.endswith(\".docx\"):\n",
    "            loader = Docx2txtLoader(file_path)\n",
    "        elif doc_file.endswith(\".txt\") or doc_file.endswith(\".md\"):\n",
    "            loader = TextLoader(file_path)\n",
    "        else:\n",
    "            print(f\"Document type not supported for {doc_file}\")\n",
    "            continue\n",
    "\n",
    "        if file_path.exists():\n",
    "            docs.extend(loader.load())\n",
    "        else:\n",
    "            print(f\"File not found: {doc_file}\")\n",
    "    \n",
    "    except Exception as e:\n",
    "        print(f\"Error loading document {doc_file}: {e}\")\n",
    "\n",
    "\n",
    "# Load URLs\n",
    "\n",
    "url = \"https://docs.streamlit.io/develop/quick-reference/release-notes\"\n",
    "\n",
    "try: \n",
    "    loader = WebBaseLoader(url)\n",
    "    docs.extend(loader.load())\n",
    "\n",
    "except Exception as e:\n",
    "    print(f\"Error loading document from {url}: {e}\")"
   ]
  },
  {
   "cell_type": "code",
   "execution_count": 20,
   "id": "22b3d386",
   "metadata": {},
   "outputs": [
    {
     "data": {
      "text/plain": [
       "[Document(metadata={'producer': 'Skia/PDF m143 Google Docs Renderer', 'creator': 'PyPDF', 'creationdate': '', 'title': 'RAG', 'source': 'docs/rag.pdf', 'total_pages': 1, 'page': 0, 'page_label': '1'}, page_content='What  is  RAG?   RAG  stands  for  Retrieval-Augmented  Generation  —  a  powerful  technique  in  AI  and  NLP  \\n(Natural\\n \\nLanguage\\n \\nProcessing)\\n \\nthat\\n \\ncombines\\n \\ninformation\\n \\nretrieval\\n \\nwith\\n \\ntext\\n \\ngeneration\\n \\nto\\n \\nproduce\\n \\nmore\\n \\naccurate,\\n \\nup-to-date,\\n \\nand\\n \\ncontextually\\n \\nrelevant\\n \\nresponses.'),\n",
       " Document(metadata={'source': 'https://docs.streamlit.io/develop/quick-reference/release-notes', 'title': 'Release notes - Streamlit Docs', 'description': 'A changelog of highlights and fixes for the latest version of Streamlit.', 'language': 'No language found.'}, page_content=\"Release notes - Streamlit DocsDocumentationsearchSearchrocket_launchGet startedInstallationaddFundamentalsaddFirst stepsaddcodeDevelopConceptsaddAPI referenceaddTutorialsaddQuick referenceremoveCheat sheetRelease notesremove2025202420232022202120202019Pre-release featuresRoadmapopen_in_newweb_assetDeployConceptsaddStreamlit Community CloudaddSnowflakeOther platformsaddschoolKnowledge baseFAQInstalling dependenciesDeployment issuesHome/Develop/Quick reference/Release notesRelease notes\\nThis page lists highlights, bug fixes, and known issues for the latest release of Streamlit. If you're looking for information about nightly releases or experimental features, see Pre-release features.\\nUpgrade Streamlit\\nstarTipTo upgrade to the latest version of Streamlit, run:pip install --upgrade streamlit\\n\\nVersion 1.50.0 (latest)\\nRelease date: September 23, 2025\\nHighlights\\n\\n🤹\\xa0Introducing MultiselectColumn to configure colorful, editable lists in your dataframes.\\n🎨\\xa0Announcing color palette configuration options to set the exact shade of red, orange, yellow, green, blue, violet, and grey to use in Markdown, status elements, sparklines, st.metric, and st.badge.\\n📊\\xa0st.bar_chart has a new sort parameter for conveniently sorting your bars.\\n\\nNotable Changes\\n\\n🔑\\xa0To prevent widgets from resetting when you change a parameter, widgets are transitioning to an identity based only on their keys (if provided). The following widgets use only their key for their identity:\\n\\nst.button\\nst.download_button\\nst.checkbox\\nst.toggle\\nst.text_area\\nst.text_input\\nst.number_input\\nst.time_input\\nst.date_input\\nst.selectbox\\nst.multiselect\\nCustom components\\n\\n\\n🖌️\\xa0You can configure the color of chart columns.\\n🔢\\xa0st.metric supports decimal.Decimal types (#12377, #12308). Thanks, aebrahim!\\n🎤\\xa0You can specify the sample rate for st.audio_input, and the default sample rate has been reduced to 16000 Hz.\\n⚙️\\xa0For clarity, in st.plotly_chart, **kwargs is deprecated and replaced by config (#12291, #12280). Thanks, zyfy29!\\n📈\\xa0st.line_chart and st.graphviz_chart have width parameters to use with flex containers.\\n🔲\\xa0You can configure st.table borders to show all, only horizontal, or no lines.\\n📂\\xa0You can specify a default tab in st.tabs.\\n🌐\\xa0To use hosted fonts from providers like Google and Adobe, you can declare externally hosted fonts with a URL to their CSS file in theme.font, theme.headingFont, and theme.codeFont.\\n\\nOther Changes\\n\\n🧹\\xa0**kwargs has been removed from st.write (#12375, #12374).\\n⏱️\\xa0To prevent browser defaults from invalidating caches too soon, cache headers include the max-age and immutable directives (#12420).\\n👽\\xa0Material icons were updated (#12473, #12535).\\n🦋\\xa0Visual tweaks (#12348, #12367).\\n👻\\xa0Bug fix: To correct a sequential navigation regression for st.number_input, some internal refactoring was reverted (#12547, #12526).\\n🦀\\xa0Bug fix: Custom components respect zero-size dimensions (#12479, #12454).\\n🦎\\xa0Bug fix: Images respect center alignment in containers (#12495, #12435).\\n🐌\\xa0Bug fix: If you use an empty string as a section label in top navigation, those pages will display individually before the collapsible sections (#12247, #12243).\\n🕸️\\xa0Bug fix: To fix a performance regression, dataframes use .iat[] instead of .iloc[] internally (#12422, #10952).\\n🦗\\xa0Bug fix: st.data_editor accepts Shift+Enter for multiline entry in a cell (#12401, #12386).\\n🦂\\xa0Bug fix: To make st.pdf more compatible on Windows, MIME types were updated (#12399, #12387). Thanks, geoextra!\\n🦟\\xa0Bug fix: To prevent long-word overflow, words are forced to break if they exceed their container's width (#12370, #12366).\\n🦠\\xa0Bug fix: Hiding all dataframe columns won't raise a TypeError (#12361, #12227).\\n🪰\\xa0Bug fix: st.logo doesn't dislocate the sidebar collapse button (#12329, #12326).\\n🪳\\xa0Bug fix: When using\\xa0accept_new_options=True\\xa0with\\xa0st.multiselect, mobile users can access their keyboards (#12330).\\n🕷️\\xa0Bug fix: st.components.v1.html ignores fractional pixels in width (#12354, #12340).\\n🐞\\xa0Bug fix: st.number_input correctly accepts keyed entries (#12351, #12349).\\n🐝\\xa0Bug fix: Markdown images maintain their aspect ratio when constrained (#12343).\\n🐜\\xa0Bug fix: st.date_input is inclusive of min and max values (#12295, #12293).\\n🪲\\xa0Bug fix: Maintain image proportions in fullscreen mode for all width settings (#12235).\\n🐛\\xa0Bug fix: Markdown code blocks don't overflow when used in labels (#12175, #12149).\\n\\nOlder versions of Streamlit\\n\\n2025 release notes\\n2024 release notes\\n2023 release notes\\n2022 release notes\\n2021 release notes\\n2020 release notes\\n2019 release notes\\narrow_backPrevious: Cheat sheetarrow_forwardNext: 2025forumStill have questions?Our forums are full of helpful information and Streamlit experts.HomeContact UsCommunity© 2025 Snowflake Inc.forum Ask AI\")]"
      ]
     },
     "execution_count": 20,
     "metadata": {},
     "output_type": "execute_result"
    }
   ],
   "source": [
    "docs"
   ]
  },
  {
   "cell_type": "code",
   "execution_count": 22,
   "id": "ddd22d02",
   "metadata": {},
   "outputs": [],
   "source": [
    "#Spliting docs\n",
    "\n",
    "text_splitter = RecursiveCharacterTextSplitter(\n",
    "    chunk_size= 5000,\n",
    "    chunk_overlap = 1000,\n",
    ")\n",
    "\n",
    "\n",
    "document_chunks = text_splitter.split_documents(docs)"
   ]
  },
  {
   "cell_type": "code",
   "execution_count": 24,
   "id": "f56c56d5",
   "metadata": {},
   "outputs": [
    {
     "name": "stderr",
     "output_type": "stream",
     "text": [
      "Failed to send telemetry event ClientStartEvent: capture() takes 1 positional argument but 3 were given\n",
      "Failed to send telemetry event ClientCreateCollectionEvent: capture() takes 1 positional argument but 3 were given\n"
     ]
    }
   ],
   "source": [
    "# Tokenization and Loading the documetnts to the vector store\n",
    "\n",
    "\n",
    "vector_db = Chroma.from_documents(\n",
    "    documents=document_chunks,\n",
    "    embedding=OpenAIEmbeddings(),\n",
    ")"
   ]
  },
  {
   "cell_type": "code",
   "execution_count": 25,
   "id": "536b8ea9",
   "metadata": {},
   "outputs": [],
   "source": [
    "def _get_context_retriever_chain(vector_db, llm):\n",
    "    retriever = vector_db.as_retriever()\n",
    "    prompt = ChatPromptTemplate.from_messages([\n",
    "        MessagesPlaceholder(variable_name=\"messages\"),\n",
    "        (\"user\", \"{input}\"),\n",
    "        (\"user\", \"Given the above conversation, generate a search query to look up in order to get inforamtion relevant to the conversation, focusing on the most recent messages.\"),\n",
    "    ])\n",
    "    retriever_chain = create_history_aware_retriever(llm, retriever, prompt)\n",
    "\n",
    "    return retriever_chain"
   ]
  },
  {
   "cell_type": "code",
   "execution_count": 26,
   "id": "bd67517a",
   "metadata": {},
   "outputs": [],
   "source": [
    "def get_conversational_rag_chain(llm):\n",
    "    retriever_chain = _get_context_retriever_chain(vector_db, llm)\n",
    "\n",
    "    prompt = ChatPromptTemplate.from_messages([\n",
    "        (\"system\",\n",
    "        \"\"\"You are a helpful assistant. You will have to answer to user's queries.\n",
    "        You will have some context to help with your answers, but now always would be completely related or helpful.\n",
    "        You can also use your knowledge to assist answering the user's queries.\\n\n",
    "        {context}\"\"\"),\n",
    "        MessagesPlaceholder(variable_name=\"messages\"),\n",
    "        (\"user\", \"{input}\"),\n",
    "    ])\n",
    "    stuff_documents_chain = create_stuff_documents_chain(llm, prompt)\n",
    "\n",
    "    return create_retrieval_chain(retriever_chain, stuff_documents_chain)"
   ]
  },
  {
   "cell_type": "code",
   "execution_count": 27,
   "id": "554fe45f",
   "metadata": {},
   "outputs": [
    {
     "name": "stderr",
     "output_type": "stream",
     "text": [
      "Failed to send telemetry event CollectionQueryEvent: capture() takes 1 positional argument but 3 were given\n"
     ]
    },
    {
     "name": "stdout",
     "output_type": "stream",
     "text": [
      "The latest version of Streamlit is 1.50.0, released on September 23, 2025."
     ]
    }
   ],
   "source": [
    "# Augmented Generation\n",
    "\n",
    "llm_stream_openai = ChatOpenAI(\n",
    "    model=\"gpt-4o\",  \n",
    "    temperature=0.3,\n",
    "    streaming=True,\n",
    ")\n",
    "\n",
    "\n",
    "llm_stream = llm_stream_openai \n",
    "\n",
    "messages = [\n",
    "    {\"role\": \"user\", \"content\": \"Hi\"},\n",
    "    {\"role\": \"assistant\", \"content\": \"Hi there! How can I assist you today?\"},\n",
    "    {\"role\": \"user\", \"content\": \"What is the latest version of Streamlit?\"},\n",
    "]\n",
    "messages = [HumanMessage(content=m[\"content\"]) if m[\"role\"] == \"user\" else AIMessage(content=m[\"content\"]) for m in messages]\n",
    "\n",
    "conversation_rag_chain = get_conversational_rag_chain(llm_stream)\n",
    "response_message = \"*(RAG Response)*\\n\"\n",
    "for chunk in conversation_rag_chain.pick(\"answer\").stream({\"messages\": messages[:-1], \"input\": messages[-1].content}):\n",
    "    response_message += chunk\n",
    "    print(chunk, end=\"\", flush=True)\n",
    "\n",
    "messages.append({\"role\": \"assistant\", \"content\": response_message})"
   ]
  },
  {
   "cell_type": "code",
   "execution_count": 28,
   "id": "efec6b1e",
   "metadata": {},
   "outputs": [
    {
     "name": "stdout",
     "output_type": "stream",
     "text": [
      "Azure is Microsoft's cloud computing platform and service, launched in 2010. It provides a wide range of cloud services, including computing, analytics, storage, networking, and artificial intelligence, allowing businesses and developers to build, deploy, and manage applications and services through Microsoft-managed data centers worldwide.\n",
      "\n",
      "### Key Features of Azure:\n",
      "1. **Infrastructure as a Service (IaaS)**: Azure provides virtual machines, storage, and networking resources, enabling organizations to run workloads in the cloud without managing physical hardware.\n",
      "   \n",
      "2. **Platform as a Service (PaaS)**: Developers can build and deploy applications without worrying about managing the underlying infrastructure. Azure handles the operating system, middleware, and runtime.\n",
      "\n",
      "3. **Software as a Service (SaaS)**: Azure offers pre-built software applications, such as Office 365, Dynamics 365, and Power BI, which are hosted and managed in the cloud.\n",
      "\n",
      "4. **Hybrid Cloud Capabilities**: Azure supports hybrid cloud environments, enabling organizations to integrate on-premises infrastructure with cloud resources for greater flexibility.\n",
      "\n",
      "5. **Global Reach**: Azure operates in over 60 regions worldwide, providing high availability and scalability for businesses across the globe.\n",
      "\n",
      "6. **AI and Machine Learning**: Azure AI services, such as Azure Machine Learning and Cognitive Services, allow developers to integrate artificial intelligence into applications.\n",
      "\n",
      "7. **Security and Compliance**: Azure offers advanced security features, including identity management, encryption, and compliance with various industry standards like GDPR, HIPAA, and ISO.\n",
      "\n",
      "8. **DevOps and Development Tools**: Azure integrates seamlessly with development tools like Visual Studio, GitHub, and Azure DevOps, enabling continuous integration and deployment.\n",
      "\n",
      "### Popular Azure Services:\n",
      "- **Azure Virtual Machines**: Create and manage virtual servers in the cloud.\n",
      "- **Azure App Service**: Host web apps, mobile apps, and APIs.\n",
      "- **Azure Blob Storage**: Store large amounts of unstructured data like images and videos.\n",
      "- **Azure Kubernetes Service (AKS)**: Manage and deploy containerized applications using Kubernetes.\n",
      "- **Azure SQL Database**: A fully managed relational database service.\n",
      "- **Azure Functions**: Serverless computing for running small pieces of code without managing infrastructure.\n",
      "- **Azure Active Directory**: Identity and access management service for secure authentication.\n",
      "\n",
      "### Benefits of Azure:\n",
      "- Scalability: Easily scale resources up or down based on demand.\n",
      "- Cost Efficiency: Pay-as-you-go pricing model reduces upfront costs.\n",
      "- Integration: Works seamlessly with Microsoft products like Windows Server, SQL Server, and Office 365.\n",
      "- Innovation: Access to cutting-edge technologies like AI, IoT, and blockchain.\n",
      "\n",
      "Azure is widely used by organizations of all sizes, from startups to large enterprises, for hosting applications, managing data, and driving digital transformation. Its versatility and robust ecosystem make it one of the leading cloud platforms in the market, competing with Amazon Web Services (AWS) and Google Cloud Platform (GCP)."
     ]
    }
   ],
   "source": [
    "import os\n",
    "from langchain_openai import AzureChatOpenAI\n",
    "import dotenv\n",
    "\n",
    "dotenv.load_dotenv()\n",
    "\n",
    "llm_stream = AzureChatOpenAI(\n",
    "    azure_endpoint=os.getenv(\"AZ_OPENAI_ENDPOINT\"),\n",
    "    openai_api_version=\"2024-02-15-preview\",\n",
    "    model_name=\"gpt-4o\",\n",
    "    openai_api_key=os.getenv(\"AZ_OPENAI_API_KEY\"),\n",
    "    openai_api_type=\"azure\",\n",
    "    temperature=0.3,\n",
    "    streaming=True,\n",
    ")\n",
    "\n",
    "prompt = \"Tell me something about Azure\"\n",
    "\n",
    "for chunk in llm_stream.stream(prompt):\n",
    "    print(chunk.content, end=\"\", flush=True)"
   ]
  }
 ],
 "metadata": {
  "kernelspec": {
   "display_name": "venv",
   "language": "python",
   "name": "python3"
  },
  "language_info": {
   "codemirror_mode": {
    "name": "ipython",
    "version": 3
   },
   "file_extension": ".py",
   "mimetype": "text/x-python",
   "name": "python",
   "nbconvert_exporter": "python",
   "pygments_lexer": "ipython3",
   "version": "3.12.7"
  }
 },
 "nbformat": 4,
 "nbformat_minor": 5
}
